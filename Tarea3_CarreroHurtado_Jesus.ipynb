{
 "cells": [
  {
   "cell_type": "markdown",
   "id": "4cd5552f-4066-498d-89d1-10ffc6584c33",
   "metadata": {},
   "source": [
    "# TAREA 3\n",
    "## Importar librerías y módulos de Python\n",
    "##### Importamos las librerías/módulos específicos de la siguiente forma."
   ]
  },
  {
   "cell_type": "code",
   "execution_count": null,
   "id": "c534bada-3247-45b5-8e21-2ce20dbe18e6",
   "metadata": {},
   "outputs": [],
   "source": [
    "# Importacion.\n",
    "# import librosa\n",
    "from scipy.io import wavfile\n",
    "import IPython\n",
    "import os\n",
    "import numpy as np\n",
    "import matplotlib.pyplot as plt"
   ]
  },
  {
   "cell_type": "markdown",
   "id": "196b1a31-2cb6-44ab-b798-9b888029e170",
   "metadata": {},
   "source": [
    "## Especificar directorios de entrada y salida\n",
    "##### Aquí definimos los directorios donde guardaremos los audios con los que vamos a trabajar, así como dónde se van a guardar aquellos que generamos a lo largo de la práctica.\n"
   ]
  },
  {
   "cell_type": "code",
   "execution_count": null,
   "id": "e1dd4f74-9e2a-4d9a-b37f-3d19ebf8f804",
   "metadata": {},
   "outputs": [],
   "source": [
    "# Directorios que usaremos.\n",
    "cwd = os.getcwd()\n",
    "audio_input_path = os.path.join(cwd, os.path.join('audio','examples'))  # 'examples'\n",
    "audio_output_path = os.path.join(cwd, os.path.join('audio','_output'))\n",
    "print(f'Directorio con los audios de entrada: {audio_input_path}')\n",
    "print(f'Directorio donde guardaremos los audios generados: {audio_output_path}\\n')"
   ]
  },
  {
   "cell_type": "markdown",
   "id": "8e600852-948b-4eb1-a3b4-9ede5e0ff907",
   "metadata": {},
   "source": [
    "## Cargar el archivo de audio\n",
    "##### Cargamos el archivo de audio .wav en este caso."
   ]
  },
  {
   "cell_type": "code",
   "execution_count": null,
   "id": "6d2bd354-fbc0-4fee-9a3a-ef7d3b662c5d",
   "metadata": {},
   "outputs": [],
   "source": [
    "# Cargamos el archivo de audio.\n",
    "filename = os.path.join(audio_input_path, 'the_last_of_us_reduced.wav')\n",
    "# audio_data, sample_rate = librosa.load(filename, sr=None, mono=False)\n",
    "sample_rate, audio_data = wavfile.read(filename)\n",
    "tamaño_bytes = os.path.getsize(filename)  # Obtiene el tamaño en bytes\n",
    "tamaño_mb = tamaño_bytes / (1024 * 1024)     # Convierte a megabytes\n",
    "print(f'Frecuencia de muestreo (sample rate): {sample_rate/1000} kHz')\n",
    "print(f'Número de canales: {audio_data.shape[1]}')\n",
    "print(f\"El tamaño del audio es: {tamaño_mb:.2f} MB\")\n"
   ]
  },
  {
   "cell_type": "markdown",
   "id": "4566a8e9-c5a6-4d32-bce3-34e221b4fdc3",
   "metadata": {},
   "source": [
    "##### Vamos a escucharlo. Para que esto se haga correctamente, hay que indicarle la frecuencia de muestreo."
   ]
  },
  {
   "cell_type": "code",
   "execution_count": null,
   "id": "9a6cff50-0c23-463e-b3d9-34d57dcc93ae",
   "metadata": {},
   "outputs": [],
   "source": [
    "IPython.display.Audio(audio_data.T, rate=sample_rate) # .T se pasa únicamente si es audio estéreo"
   ]
  },
  {
   "cell_type": "markdown",
   "id": "f5cf1c8b-3d88-4f30-9832-c4973ab731f9",
   "metadata": {},
   "source": [
    "## Conversión de estereo a mono\n",
    "##### Ahora, por simplificación, vamos a calcular la media por canal para obtener un sonido mono."
   ]
  },
  {
   "cell_type": "code",
   "execution_count": null,
   "id": "3529f5eb-6782-4e6f-91dc-2be392a8159c",
   "metadata": {},
   "outputs": [],
   "source": [
    "# Convertimos a mono mediante la media por canal (simplificacion).\n",
    "new_data_mono = audio_data.mean(axis=1)  # Column-wise.\n",
    "# Mantenemos la misma resolucion que antes.\n",
    "new_data_mono = new_data_mono.astype(np.int16)\n",
    "\n",
    "tamaño_bytes = new_data_mono.nbytes  # Tamaño en bytes del array\n",
    "tamaño_mb = tamaño_bytes / (1024 * 1024)\n",
    "print('Nuevos datos de audio (mono):')\n",
    "print(f'Frecuencia de muestreo (sample rate): {sample_rate/1000} kHz')\n",
    "print(f'Número de canales: {new_data_mono[:5]}...')\n",
    "print(f\"El tamaño del audio es: {tamaño_mb:.2f} MB\")"
   ]
  },
  {
   "cell_type": "markdown",
   "id": "994b5ab4-26d4-4b7a-9f86-03786de264c4",
   "metadata": {},
   "source": [
    "##### Vamos a guardarlo"
   ]
  },
  {
   "cell_type": "code",
   "execution_count": null,
   "id": "81333c17-7e8a-4b95-aede-27303b576156",
   "metadata": {},
   "outputs": [],
   "source": [
    "# Guardamos el archivo mono a un fichero de tipo wav.\n",
    "wavfile.write(\n",
    "    filename=os.path.join(audio_output_path, 'the_last_of_us_reduced.wav'),\n",
    "    rate=sample_rate,\n",
    "    data=new_data_mono\n",
    ")"
   ]
  },
  {
   "cell_type": "markdown",
   "id": "fbcf3fbe-78d6-44ab-befc-a65d11d43f93",
   "metadata": {},
   "source": [
    "##### Vamos a escucharlo de nuevo"
   ]
  },
  {
   "cell_type": "code",
   "execution_count": null,
   "id": "19caa3a1-9250-4d84-a2ad-2691dcd41765",
   "metadata": {},
   "outputs": [],
   "source": [
    "IPython.display.Audio(new_data_mono, rate=sample_rate)"
   ]
  },
  {
   "cell_type": "markdown",
   "id": "6a2161b7-0941-47f0-8632-af3950e3c769",
   "metadata": {},
   "source": [
    "## Mostrar una gráfica en el tiempo para ambos audios"
   ]
  },
  {
   "cell_type": "code",
   "execution_count": null,
   "id": "217e1e6d-7344-4b08-9cb5-b5641570d7ea",
   "metadata": {},
   "outputs": [],
   "source": [
    "ampl_estereo = len(audio_data)\n",
    "ampl_mono = len(new_data_mono)\n",
    "print(f'Número de muestras del audio con fs=48 kHz (valores de amplitud): {ampl_estereo}')\n",
    "print(f'Número de muestras del audio con fs=24 kHz (valores de amplitud): {ampl_mono}')"
   ]
  },
  {
   "cell_type": "code",
   "execution_count": null,
   "id": "6f8536c9-5c72-48fd-852a-d39249d3f3ee",
   "metadata": {},
   "outputs": [],
   "source": [
    "# Construimos el array para el eje x que representa el tiempo de la grabación.\n",
    "# Tiene la forma: np.arange(Vi, Vf, P).\n",
    "t1 = np.arange(0, ampl_estereo/sample_rate, 1/sample_rate)\n",
    "t2 = np.arange(0, ampl_mono/sample_rate, 1/sample_rate)"
   ]
  },
  {
   "cell_type": "code",
   "execution_count": null,
   "id": "5ff7e7fa-488d-47ba-9e7b-ff9e61dc0d4a",
   "metadata": {},
   "outputs": [],
   "source": [
    "print(t1)\n",
    "print(t2)"
   ]
  },
  {
   "cell_type": "code",
   "execution_count": null,
   "id": "54c8c409-3825-4a6b-944f-f4897e6c4f38",
   "metadata": {},
   "outputs": [],
   "source": [
    "# Creamos la figura.\n",
    "fig, ax = plt.subplots(2, 1, figsize=(12, 6), sharex=True)\n",
    "\n",
    "# Solo mostramos las primeras 50 muestras de amplitud (por claridad).\n",
    "end = 50\n",
    "\n",
    "# Señal a 44 kHz.\n",
    "ax[0].plot(t1[:end], audio_data[:end], marker='X')\n",
    "ax[0].set_title(f'Audio en el dominio del tiempo muestreado a {sample_rate} Hz')\n",
    "ax[0].set_ylabel('Amplitud')\n",
    "ax[0].grid(True)\n",
    "\n",
    "# Señal a 44 kHz.\n",
    "# Utilizamos ratio para ajustar el eje x de ambas gráficas\n",
    "# ya que la fs es menor en esta señal.\n",
    "ratio = sample_rate / sample_rate  \n",
    "ax[1].plot(t2[:int(end/ratio)], new_data_mono[:int(end/ratio)], c='tab:red', marker='X')\n",
    "ax[1].set_title(f'Audio en el dominio del tiempo muestreado a {sample_rate} Hz')\n",
    "ax[1].set_xlabel('Tiempo (s)')\n",
    "ax[1].set_ylabel('Amplitud')\n",
    "ax[1].grid(True)\n",
    "\n",
    "# Mostramos la figura.\n",
    "plt.tight_layout()\n",
    "plt.show()\n"
   ]
  },
  {
   "cell_type": "markdown",
   "id": "1370729a-d9ea-4bb7-89e6-b9993309e668",
   "metadata": {},
   "source": [
    "## Explicación\n",
    "### Ahora se va a explicar las diferencias entre audio estéreo y mono"
   ]
  },
  {
   "cell_type": "markdown",
   "id": "59a9cef3-c584-460d-bb1d-1e252a59e024",
   "metadata": {},
   "source": [
    "##### - El audio estéreo usa dos canales para crear una sensación de espacio: podemos notar sonidos que vienen más de un lado u otro. \n",
    "##### - El audio mono, en cambio, usa un solo canal, todo suena “en el centro”. \n",
    "##### Básicamente, estéreo da sensación de direcciones, mientras que mono es más sencillo y ocupa menos espacio, pero sin efecto de ubicación de los sonidos."
   ]
  },
  {
   "cell_type": "code",
   "execution_count": null,
   "id": "59254ba6-633b-4de1-8429-84255056508b",
   "metadata": {},
   "outputs": [],
   "source": []
  }
 ],
 "metadata": {
  "kernelspec": {
   "display_name": "Python (audiopy)",
   "language": "python",
   "name": "audiopy"
  },
  "language_info": {
   "codemirror_mode": {
    "name": "ipython",
    "version": 3
   },
   "file_extension": ".py",
   "mimetype": "text/x-python",
   "name": "python",
   "nbconvert_exporter": "python",
   "pygments_lexer": "ipython3",
   "version": "3.10.16"
  }
 },
 "nbformat": 4,
 "nbformat_minor": 5
}
